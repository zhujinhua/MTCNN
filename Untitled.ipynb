{
 "cells": [
  {
   "cell_type": "code",
   "execution_count": 1,
   "id": "b6efdbe6",
   "metadata": {},
   "outputs": [],
   "source": [
    "import torch"
   ]
  },
  {
   "cell_type": "code",
   "execution_count": 2,
   "id": "93e95730",
   "metadata": {},
   "outputs": [],
   "source": [
    "m = torch.randn(2, 4)"
   ]
  },
  {
   "cell_type": "code",
   "execution_count": 3,
   "id": "33c72d1b",
   "metadata": {},
   "outputs": [
    {
     "data": {
      "text/plain": [
       "tensor([[ 0.5169, -0.6594, -1.0694, -0.9084],\n",
       "        [-0.4038, -0.3835, -1.1623,  0.9862]])"
      ]
     },
     "execution_count": 3,
     "metadata": {},
     "output_type": "execute_result"
    }
   ],
   "source": [
    "m"
   ]
  },
  {
   "cell_type": "code",
   "execution_count": 6,
   "id": "13affb43",
   "metadata": {},
   "outputs": [],
   "source": [
    "mask = torch.lt(input=m, other=0)"
   ]
  },
  {
   "cell_type": "code",
   "execution_count": 7,
   "id": "eaf85dd3",
   "metadata": {},
   "outputs": [
    {
     "data": {
      "text/plain": [
       "tensor([[False,  True,  True,  True],\n",
       "        [ True,  True,  True, False]])"
      ]
     },
     "execution_count": 7,
     "metadata": {},
     "output_type": "execute_result"
    }
   ],
   "source": [
    "mask"
   ]
  },
  {
   "cell_type": "code",
   "execution_count": 8,
   "id": "cca497eb",
   "metadata": {},
   "outputs": [
    {
     "data": {
      "text/plain": [
       "tensor([-0.6594, -1.0694, -0.9084, -0.4038, -0.3835, -1.1623])"
      ]
     },
     "execution_count": 8,
     "metadata": {},
     "output_type": "execute_result"
    }
   ],
   "source": [
    "torch.masked_select(input=m, mask=mask)"
   ]
  },
  {
   "cell_type": "code",
   "execution_count": 10,
   "id": "4646fda4",
   "metadata": {},
   "outputs": [
    {
     "data": {
      "text/plain": [
       "tensor([-0.6594, -1.0694, -0.9084, -0.4038, -0.3835, -1.1623])"
      ]
     },
     "execution_count": 10,
     "metadata": {},
     "output_type": "execute_result"
    }
   ],
   "source": [
    "m[m < 0]"
   ]
  },
  {
   "cell_type": "code",
   "execution_count": 11,
   "id": "a64d16e4",
   "metadata": {},
   "outputs": [
    {
     "data": {
      "text/plain": [
       "tensor([[False,  True,  True,  True],\n",
       "        [ True,  True,  True, False]])"
      ]
     },
     "execution_count": 11,
     "metadata": {},
     "output_type": "execute_result"
    }
   ],
   "source": [
    "m < 0"
   ]
  },
  {
   "cell_type": "code",
   "execution_count": 12,
   "id": "e1406980",
   "metadata": {},
   "outputs": [
    {
     "data": {
      "text/plain": [
       "tensor([-0.6594, -1.0694, -0.9084, -0.4038, -0.3835, -1.1623])"
      ]
     },
     "execution_count": 12,
     "metadata": {},
     "output_type": "execute_result"
    }
   ],
   "source": [
    "m[m<0]"
   ]
  },
  {
   "cell_type": "code",
   "execution_count": 13,
   "id": "99484dc5",
   "metadata": {},
   "outputs": [],
   "source": [
    "# [1, 3, 600, 900]"
   ]
  },
  {
   "cell_type": "code",
   "execution_count": null,
   "id": "5f5a5d1c",
   "metadata": {},
   "outputs": [],
   "source": [
    "# cls\n",
    "# [1, 1, 295, 445]"
   ]
  },
  {
   "cell_type": "code",
   "execution_count": 15,
   "id": "e7fad6c1",
   "metadata": {},
   "outputs": [
    {
     "data": {
      "text/plain": [
       "444.0"
      ]
     },
     "execution_count": 15,
     "metadata": {},
     "output_type": "execute_result"
    }
   ],
   "source": [
    "(900 - 12) / 2"
   ]
  },
  {
   "cell_type": "code",
   "execution_count": null,
   "id": "ad05f765",
   "metadata": {},
   "outputs": [],
   "source": [
    "# offset\n",
    "# [1, 4, 295, 445]"
   ]
  },
  {
   "cell_type": "code",
   "execution_count": 16,
   "id": "55c84c98",
   "metadata": {},
   "outputs": [
    {
     "data": {
      "text/plain": [
       "131275"
      ]
     },
     "execution_count": 16,
     "metadata": {},
     "output_type": "execute_result"
    }
   ],
   "source": [
    "295 * 445"
   ]
  },
  {
   "cell_type": "code",
   "execution_count": 21,
   "id": "7b579dff",
   "metadata": {},
   "outputs": [],
   "source": [
    "_cls = torch.rand(3, 5)"
   ]
  },
  {
   "cell_type": "code",
   "execution_count": 23,
   "id": "c9f81adb",
   "metadata": {},
   "outputs": [
    {
     "data": {
      "text/plain": [
       "tensor([[0.2525, 0.6297, 0.9148, 0.7832, 0.4086],\n",
       "        [0.5754, 0.4036, 0.4244, 0.5397, 0.3137],\n",
       "        [0.9834, 0.0589, 0.0836, 0.7210, 0.4115]])"
      ]
     },
     "execution_count": 23,
     "metadata": {},
     "output_type": "execute_result"
    }
   ],
   "source": [
    "_cls"
   ]
  },
  {
   "cell_type": "code",
   "execution_count": 24,
   "id": "207094e9",
   "metadata": {},
   "outputs": [
    {
     "data": {
      "text/plain": [
       "tensor([[False,  True,  True,  True, False],\n",
       "        [False, False, False, False, False],\n",
       "        [ True, False, False,  True, False]])"
      ]
     },
     "execution_count": 24,
     "metadata": {},
     "output_type": "execute_result"
    }
   ],
   "source": [
    "_cls > 0.6"
   ]
  },
  {
   "cell_type": "code",
   "execution_count": 25,
   "id": "7a9897c1",
   "metadata": {},
   "outputs": [
    {
     "data": {
      "text/plain": [
       "tensor([[0, 1],\n",
       "        [0, 2],\n",
       "        [0, 3],\n",
       "        [2, 0],\n",
       "        [2, 3]])"
      ]
     },
     "execution_count": 25,
     "metadata": {},
     "output_type": "execute_result"
    }
   ],
   "source": [
    "torch.nonzero(_cls > 0.6)"
   ]
  },
  {
   "cell_type": "code",
   "execution_count": null,
   "id": "9204a936",
   "metadata": {},
   "outputs": [],
   "source": []
  },
  {
   "cell_type": "code",
   "execution_count": null,
   "id": "0826d30f",
   "metadata": {},
   "outputs": [],
   "source": []
  },
  {
   "cell_type": "code",
   "execution_count": null,
   "id": "fa16cbe2",
   "metadata": {},
   "outputs": [],
   "source": []
  },
  {
   "cell_type": "code",
   "execution_count": null,
   "id": "9ae65751",
   "metadata": {},
   "outputs": [],
   "source": []
  }
 ],
 "metadata": {
  "kernelspec": {
   "display_name": "Python 3 (ipykernel)",
   "language": "python",
   "name": "python3"
  },
  "language_info": {
   "codemirror_mode": {
    "name": "ipython",
    "version": 3
   },
   "file_extension": ".py",
   "mimetype": "text/x-python",
   "name": "python",
   "nbconvert_exporter": "python",
   "pygments_lexer": "ipython3",
   "version": "3.10.9"
  }
 },
 "nbformat": 4,
 "nbformat_minor": 5
}
