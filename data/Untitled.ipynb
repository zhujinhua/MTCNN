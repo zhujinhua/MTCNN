{
 "cells": [
  {
   "cell_type": "code",
   "execution_count": 1,
   "id": "2155c233",
   "metadata": {},
   "outputs": [],
   "source": [
    "s = \"a   b    c  d e f h\""
   ]
  },
  {
   "cell_type": "code",
   "execution_count": 2,
   "id": "fd6a61bc",
   "metadata": {},
   "outputs": [
    {
     "data": {
      "text/plain": [
       "['a', 'b', 'c', 'd', 'e', 'f', 'h']"
      ]
     },
     "execution_count": 2,
     "metadata": {},
     "output_type": "execute_result"
    }
   ],
   "source": [
    "s.split()"
   ]
  },
  {
   "cell_type": "code",
   "execution_count": 3,
   "id": "576cad03",
   "metadata": {},
   "outputs": [],
   "source": [
    "# matplotlib opencv  H, W, C\n",
    "# Image: size  w, h"
   ]
  },
  {
   "cell_type": "code",
   "execution_count": 4,
   "id": "c994a68d",
   "metadata": {},
   "outputs": [],
   "source": [
    "from matplotlib import pyplot as plt"
   ]
  },
  {
   "cell_type": "code",
   "execution_count": 6,
   "id": "cc235a8e",
   "metadata": {},
   "outputs": [],
   "source": [
    "img = plt.imread(fname=\"img.jpg\")"
   ]
  },
  {
   "cell_type": "code",
   "execution_count": 7,
   "id": "99b6b9ba",
   "metadata": {},
   "outputs": [
    {
     "data": {
      "text/plain": [
       "(314, 1005, 3)"
      ]
     },
     "execution_count": 7,
     "metadata": {},
     "output_type": "execute_result"
    }
   ],
   "source": [
    "img.shape"
   ]
  },
  {
   "cell_type": "code",
   "execution_count": 8,
   "id": "dd064cf9",
   "metadata": {},
   "outputs": [],
   "source": [
    "import cv2"
   ]
  },
  {
   "cell_type": "code",
   "execution_count": 9,
   "id": "8f271095",
   "metadata": {},
   "outputs": [],
   "source": [
    "img = cv2.imread(filename=\"img.jpg\")"
   ]
  },
  {
   "cell_type": "code",
   "execution_count": 10,
   "id": "fb61ae2a",
   "metadata": {},
   "outputs": [
    {
     "data": {
      "text/plain": [
       "(314, 1005, 3)"
      ]
     },
     "execution_count": 10,
     "metadata": {},
     "output_type": "execute_result"
    }
   ],
   "source": [
    "img.shape"
   ]
  },
  {
   "cell_type": "code",
   "execution_count": 11,
   "id": "d0ef0fe2",
   "metadata": {},
   "outputs": [],
   "source": [
    "from PIL import Image"
   ]
  },
  {
   "cell_type": "code",
   "execution_count": 13,
   "id": "0390c11d",
   "metadata": {},
   "outputs": [],
   "source": [
    "img = Image.open(fp=\"img.jpg\")"
   ]
  },
  {
   "cell_type": "code",
   "execution_count": 15,
   "id": "c98b8abd",
   "metadata": {},
   "outputs": [
    {
     "data": {
      "text/plain": [
       "(1005, 314)"
      ]
     },
     "execution_count": 15,
     "metadata": {},
     "output_type": "execute_result"
    }
   ],
   "source": [
    "img.size"
   ]
  },
  {
   "cell_type": "code",
   "execution_count": 16,
   "id": "cc299db3",
   "metadata": {},
   "outputs": [],
   "source": [
    "import numpy as np"
   ]
  },
  {
   "cell_type": "code",
   "execution_count": null,
   "id": "6c745c5e",
   "metadata": {},
   "outputs": [],
   "source": [
    "np.random.randint()"
   ]
  }
 ],
 "metadata": {
  "kernelspec": {
   "display_name": "Python 3 (ipykernel)",
   "language": "python",
   "name": "python3"
  },
  "language_info": {
   "codemirror_mode": {
    "name": "ipython",
    "version": 3
   },
   "file_extension": ".py",
   "mimetype": "text/x-python",
   "name": "python",
   "nbconvert_exporter": "python",
   "pygments_lexer": "ipython3",
   "version": "3.10.9"
  }
 },
 "nbformat": 4,
 "nbformat_minor": 5
}
